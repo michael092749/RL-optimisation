{
  "cells": [
    {
      "cell_type": "code",
      "execution_count": null,
      "metadata": {
        "id": "Pr615GV7mUwB"
      },
      "outputs": [],
      "source": [
        "# import tensorflow as tf\n",
        "# device_name = tf.test.gpu_device_name()\n",
        "# if device_name != '/device:GPU:0':\n",
        "#   raise SystemError('GPU device not found')\n",
        "# print('Found GPU at: {}'.format(device_name))"
      ]
    },
    {
      "cell_type": "code",
      "execution_count": null,
      "metadata": {
        "colab": {
          "base_uri": "https://localhost:8080/"
        },
        "id": "5Ir18dbyqomA",
        "outputId": "34260422-51a5-4131-da98-9162f9e1e122"
      },
      "outputs": [
        {
          "output_type": "stream",
          "name": "stdout",
          "text": [
            "Colab only includes TensorFlow 2.x; %tensorflow_version has no effect.\n",
            "Note: using Google CoLab\n"
          ]
        }
      ],
      "source": [
        "try:\n",
        "    from google.colab import drive\n",
        "    %tensorflow_version 2.x\n",
        "    COLAB = True\n",
        "    print(\"Note: using Google CoLab\")\n",
        "except:\n",
        "    print(\"Note: not using Google CoLab\")\n",
        "    COLAB = False"
      ]
    },
    {
      "cell_type": "code",
      "execution_count": null,
      "metadata": {
        "colab": {
          "base_uri": "https://localhost:8080/"
        },
        "id": "TKPT3VqeqxNe",
        "outputId": "146129c2-2ce2-4794-ece2-274455c91656"
      },
      "outputs": [
        {
          "output_type": "stream",
          "name": "stdout",
          "text": [
            "Reading package lists... Done\n",
            "Building dependency tree... Done\n",
            "Reading state information... Done\n",
            "x11-utils is already the newest version (7.7+5build2).\n",
            "ffmpeg is already the newest version (7:4.4.2-0ubuntu0.22.04.1).\n",
            "xvfb is already the newest version (2:21.1.4-2ubuntu1.7~22.04.1).\n",
            "0 upgraded, 0 newly installed, 0 to remove and 16 not upgraded.\n",
            "\u001b[31mERROR: pip's dependency resolver does not currently take into account all the packages that are installed. This behaviour is the source of the following dependency conflicts.\n",
            "gym 0.17.3 requires pyglet<=1.5.0,>=1.4.0, but you have pyglet 1.3.2 which is incompatible.\u001b[0m\u001b[31m\n",
            "\u001b[0m"
          ]
        }
      ],
      "source": [
        "if COLAB:\n",
        "    !sudo apt-get install -y xvfb ffmpeg x11-utils\n",
        "    !pip install -q 'gym==0.17.3'\n",
        "    !pip install -q 'imageio==2.4.0'\n",
        "    !pip install -q PILLOW\n",
        "    !pip install -q 'pyglet==1.3.2'\n",
        "    !pip install -q pyvirtualdisplay\n",
        "    !pip install -q 'tf-agents==0.12.0'"
      ]
    },
    {
      "cell_type": "markdown",
      "metadata": {
        "id": "msrhnup0q9PD"
      },
      "source": [
        "##Imports"
      ]
    },
    {
      "cell_type": "code",
      "execution_count": null,
      "metadata": {
        "colab": {
          "base_uri": "https://localhost:8080/"
        },
        "id": "VJbw-GCpq7OO",
        "outputId": "66e1c754-b13b-4f23-eaf0-9374a1425c46"
      },
      "outputs": [
        {
          "output_type": "stream",
          "name": "stderr",
          "text": [
            "WARNING:tensorflow:Please fix your imports. Module tensorflow.python.training.tracking.base has been moved to tensorflow.python.trackable.base. The old module will be deleted in version 2.11.\n"
          ]
        }
      ],
      "source": [
        "import base64\n",
        "import imageio\n",
        "import IPython\n",
        "import matplotlib\n",
        "import matplotlib.pyplot as plt\n",
        "import numpy as np\n",
        "import PIL.Image\n",
        "import pyvirtualdisplay\n",
        "import math\n",
        "import numpy as np\n",
        "\n",
        "import tensorflow as tf\n",
        "\n",
        "from tf_agents.agents.ddpg import actor_network\n",
        "from tf_agents.agents.ddpg import critic_network\n",
        "from tf_agents.agents.ddpg import ddpg_agent\n",
        "\n",
        "from tf_agents.agents.dqn import dqn_agent\n",
        "from tf_agents.drivers import dynamic_step_driver\n",
        "from tf_agents.environments import suite_gym\n",
        "from tf_agents.environments import tf_py_environment\n",
        "from tf_agents.eval import metric_utils\n",
        "from tf_agents.metrics import tf_metrics\n",
        "from tf_agents.networks import q_network\n",
        "from tf_agents.policies import random_tf_policy\n",
        "from tf_agents.replay_buffers import tf_uniform_replay_buffer\n",
        "from tf_agents.trajectories import trajectory\n",
        "from tf_agents.trajectories import policy_step\n",
        "from tf_agents.utils import common\n",
        "\n",
        "import gym\n",
        "from gym import spaces\n",
        "from gym.utils import seeding\n",
        "from gym.envs.registration import register\n",
        "import PIL.ImageDraw\n",
        "import PIL.Image\n",
        "from PIL import ImageFont"
      ]
    },
    {
      "cell_type": "code",
      "execution_count": null,
      "metadata": {
        "id": "chPBZZJCrvaO"
      },
      "outputs": [],
      "source": [
        "# Set up a virtual display for rendering OpenAI gym environments.\n",
        "vdisplay = pyvirtualdisplay.Display(visible=0, size=(1400, 900)).start()\n"
      ]
    },
    {
      "cell_type": "code",
      "execution_count": null,
      "metadata": {
        "id": "vDodf_MBBEiL"
      },
      "outputs": [],
      "source": [
        "def sequential_number_generator(start=50, step=1,bound=None):\n",
        "  current = start\n",
        "  while True:\n",
        "      yield current\n",
        "      current += step\n",
        "      if bound is not None and current >= bound:\n",
        "          current = start\n",
        "\n",
        "\n",
        "# Create a generator instance\n",
        "generator = sequential_number_generator(50,1,350+1)\n"
      ]
    },
    {
      "cell_type": "markdown",
      "metadata": {
        "id": "gjxPWcTXr4EX"
      },
      "source": [
        "#Create Environment"
      ]
    },
    {
      "cell_type": "code",
      "execution_count": null,
      "metadata": {
        "id": "miiVO9psr8Wj"
      },
      "outputs": [],
      "source": [
        "class MEC_System(gym.Env):\n",
        "  metadata = {\n",
        "        'render.modes': ['human', 'rgb_array'],\n",
        "        'video.frames_per_second': 1\n",
        "    }\n",
        "\n",
        "  STATE_ELEMENTS = 5\n",
        "  STATES = ['channel_gain', 'task_size', 'comp_size','energy_harvested','battery_level']\n",
        "\n",
        "  # H is exp distributed -> unit mean\n",
        "  # task size -> uniform distribution 0-10MB\n",
        "  # comp size -> unform\n",
        "  # harvested energy -> uniform distribution -> max 1mJ\n",
        "\n",
        "  STATE_CHANNEL_GAIN = 0\n",
        "  STATE_TASK_SIZE = 1\n",
        "  STATE_COMP_SIZE = 2\n",
        "  STATE_ENERGY_HARVESTED = 3\n",
        "  STATE_BATTERY_LEVEL = 4\n",
        "\n",
        "  ACTION_ELEMENTS = 2\n",
        "  ACTION_OFFLOAD = 0\n",
        "  ACTION_TRANSMIT_POWER = 1\n",
        "\n",
        "\n",
        "  NO_CPU_CYCLES_PER_UNIT = 8e5\n",
        "  TRANSMIT_POWER = 1\n",
        "  IDLE_POWER = 100e-3\n",
        "  NOISE_POWER = 10e-12\n",
        "  SPECTRAL_BANDWIDTH = 20e6\n",
        "  CHANNEL_GAIN= 1\n",
        "\n",
        "  MEC_COMP_CAPABILITY = 20e9\n",
        "  LOCAL_COMP_CAPABILITY = 2.4e9\n",
        "  CYCLES_PER_BIT = 737.5\n",
        "\n",
        "\n",
        "  WEIGHT_DELAY = 0.9\n",
        "  WEIGHT_ENERGY = 0.1\n",
        "\n",
        "  min_data_size = 50e3 # 50kb\n",
        "  max_data_size = 350e3\n",
        "  min_comp_cycles = 200\n",
        "  max_comp_cycles = 500 # cycles/bit\n",
        "  min_battery_level = 0.0\n",
        "  max_battery_level = 3.2e-3\n",
        "  min_energy_harvested = 0\n",
        "  max_energy_harvested = 1e-3\n",
        "\n",
        "\n",
        "  def __init__(self):\n",
        "    self.verbose = False\n",
        "    self.viewer = None\n",
        "\n",
        "    self.max_trans_power = 2 # watt\n",
        "\n",
        "    self.action_space = spaces.Box(\n",
        "        low=np.array([0.0, 0.0]),\n",
        "        high=np.array([1.0, self.max_trans_power]),\n",
        "        shape = (MEC_System.ACTION_ELEMENTS,),\n",
        "        dtype = np.float32\n",
        "    )\n",
        "\n",
        "    self.observation_space = spaces.Box(\n",
        "        low = np.array([0.0, MEC_System.min_data_size, MEC_System.min_comp_cycles, MEC_System.min_energy_harvested, MEC_System.min_battery_level]),\n",
        "        high = np.array([50, MEC_System.max_data_size, MEC_System.max_comp_cycles, MEC_System.max_energy_harvested, MEC_System.max_battery_level] ),\n",
        "        shape = (MEC_System.STATE_ELEMENTS,),\n",
        "        dtype = np.float32\n",
        "    )\n",
        "\n",
        "    self.seed()\n",
        "    self.reset()\n",
        "\n",
        "    self.state_log = []\n",
        "\n",
        "  def seed(self, seed=None):\n",
        "      self.np_random, seed = seeding.np_random(seed)\n",
        "      return [seed]\n",
        "\n",
        "  def reset(self):\n",
        "      self.state_log = []\n",
        "      self.state = [0] * MEC_System.STATE_ELEMENTS\n",
        "      self.last_action = [0] * MEC_System.ACTION_ELEMENTS\n",
        "\n",
        "      self.state[MEC_System.STATE_CHANNEL_GAIN] = np.random.exponential(1)\n",
        "      self.state[MEC_System.STATE_TASK_SIZE] = next(generator)  #np.random.uniform(MEC_System.min_data_size,MEC_System.max_data_size)\n",
        "      self.state[MEC_System.STATE_COMP_SIZE] =  200 #np.random.uniform(MEC_System.min_comp_cycles,MEC_System.max_comp_cycles)\n",
        "      self.state[MEC_System.STATE_ENERGY_HARVESTED] = np.random.uniform(MEC_System.min_energy_harvested, MEC_System.max_energy_harvested*1000)\n",
        "      self.state[MEC_System.STATE_BATTERY_LEVEL] = np.random.uniform(MEC_System.min_battery_level, MEC_System.max_battery_level*1000)\n",
        "\n",
        "      return np.array(self.state)\n",
        "\n",
        "  def eval_action(self,action):\n",
        "    partition_factor = action[MEC_System.ACTION_OFFLOAD]\n",
        "    trans_power = action[MEC_System.ACTION_TRANSMIT_POWER]\n",
        "\n",
        "    if partition_factor < 1e-2:\n",
        "      partition_factor = 0\n",
        "      trans_power = 0\n",
        "\n",
        "    return partition_factor, trans_power\n",
        "\n",
        "\n",
        "  def step(self, action):\n",
        "      self.last_action = action\n",
        "      channel_gain = self.state[MEC_System.STATE_CHANNEL_GAIN]\n",
        "      task_size = self.state[MEC_System.STATE_TASK_SIZE]\n",
        "      comp_size = self.state[MEC_System.STATE_COMP_SIZE]\n",
        "      energy_harvested = self.state[MEC_System.STATE_ENERGY_HARVESTED]\n",
        "      battery = self.state[MEC_System.STATE_BATTERY_LEVEL]\n",
        "\n",
        "      partition_factor, trans_power = self.eval_action(action)\n",
        "      trans_rate = MEC_System.SPECTRAL_BANDWIDTH*math.log2(1+ \\\n",
        "                        ((trans_power*channel_gain)/MEC_System.NOISE_POWER))\n",
        "      print(partition_factor)\n",
        "      if self.verbose:\n",
        "        print(\"*******start step*****\")\n",
        "        print(\"ACTIONS\")\n",
        "        print(f\"partition factor : {partition_factor} ##   trans_power : {trans_power}\")\n",
        "        print(\"\")\n",
        "        print(f\"STATE\")\n",
        "        print(f\"trans power {trans_power}\")\n",
        "        print(f\"trans rate : {trans_rate}\")\n",
        "        print(f\"task size : {task_size}bits ## comp size : {comp_size}cycles/bit\")\n",
        "        print(f'channel gain : {channel_gain}')\n",
        "        print(f'energy harvested : {energy_harvested}')\n",
        "        print(f'battery level : {battery}\\n')\n",
        "\n",
        "      local_time_delay = task_size* comp_size * (1-partition_factor)/MEC_System.LOCAL_COMP_CAPABILITY\n",
        "      if trans_rate == 0:\n",
        "          offload_trans_time = 0\n",
        "      else :\n",
        "        offload_trans_time = task_size*partition_factor /trans_rate\n",
        "      offload_comp_time = task_size*comp_size * partition_factor/ MEC_System.MEC_COMP_CAPABILITY\n",
        "      total_offload_time = (offload_trans_time + offload_comp_time)\n",
        "\n",
        "\n",
        "      K = 10e-27\n",
        "      energy_local = local_time_delay* (K)*(MEC_System.LOCAL_COMP_CAPABILITY**3)/10\n",
        "      energy_offload = offload_trans_time*trans_power*1000\n",
        "\n",
        "      total_delay = max(local_time_delay, total_offload_time)\n",
        "      total_energy = energy_local + energy_offload\n",
        "\n",
        "\n",
        "\n",
        "      cost = MEC_System.WEIGHT_DELAY * total_delay + MEC_System.WEIGHT_ENERGY * total_energy\n",
        "\n",
        "      done = True\n",
        "\n",
        "      if total_energy < energy_harvested+battery :\n",
        "         reward = -cost\n",
        "      else:\n",
        "        reward = -cost -4\n",
        "\n",
        "\n",
        "      self.state_log.append(self.state + [cost,\n",
        "                                          total_energy,\n",
        "                                          total_delay])\n",
        "      # self.state[5]\n",
        "\n",
        "      if self.verbose:\n",
        "        print(f\"local energy : {energy_local}\")\n",
        "        print(f\"energy_offload : {energy_offload}\")\n",
        "        print(f\"l-delay : {local_time_delay}\")\n",
        "        print(f\"offload delay : {total_offload_time}\")\n",
        "        print(f\"Total energy : {total_energy}\")\n",
        "        print(total_energy < energy_harvested+battery)\n",
        "        print(f\"reward: {reward}\")\n",
        "        print(\"******** END *********\\n\")\n",
        "\n",
        "      locals = self.local_only()\n",
        "      offloads = self.offload_only()\n",
        "\n",
        "      return self.state, reward*10, done, {'cost' : cost, 'energy':total_energy, 'delay':total_delay,\n",
        "                                          'local_only': locals, 'offload_only':offloads}\n",
        "\n",
        "  def close(self):\n",
        "        pass\n",
        "\n",
        "  def local_only(self):\n",
        "      channel_gain = self.state[MEC_System.STATE_CHANNEL_GAIN]\n",
        "      task_size = self.state[MEC_System.STATE_TASK_SIZE]\n",
        "      comp_size = self.state[MEC_System.STATE_COMP_SIZE]\n",
        "      energy_harvested = self.state[MEC_System.STATE_ENERGY_HARVESTED]\n",
        "      battery = self.state[MEC_System.STATE_BATTERY_LEVEL]\n",
        "\n",
        "      partition_factor = 0\n",
        "      trans_power = 0\n",
        "\n",
        "      local_time_delay = task_size* comp_size * (1-partition_factor)/MEC_System.LOCAL_COMP_CAPABILITY\n",
        "\n",
        "\n",
        "      K = 10e-27\n",
        "      energy_local = local_time_delay* (K)*(MEC_System.LOCAL_COMP_CAPABILITY**3)/10\n",
        "\n",
        "      total_energy = energy_local\n",
        "\n",
        "\n",
        "      cost = MEC_System.WEIGHT_DELAY * local_time_delay + MEC_System.WEIGHT_ENERGY * total_energy\n",
        "\n",
        "      return {'delay':local_time_delay, 'cost':cost}\n",
        "\n",
        "\n",
        "  def offload_only(self):\n",
        "    channel_gain = self.state[MEC_System.STATE_CHANNEL_GAIN]\n",
        "    task_size = self.state[MEC_System.STATE_TASK_SIZE]\n",
        "    comp_size = self.state[MEC_System.STATE_COMP_SIZE]\n",
        "    energy_harvested = self.state[MEC_System.STATE_ENERGY_HARVESTED]\n",
        "    battery = self.state[MEC_System.STATE_BATTERY_LEVEL]\n",
        "\n",
        "    partition_factor = 1\n",
        "    trans_power = 0.8\n",
        "\n",
        "    trans_rate = MEC_System.SPECTRAL_BANDWIDTH*math.log2(1+ \\\n",
        "                      ((trans_power*channel_gain)/MEC_System.NOISE_POWER))\n",
        "\n",
        "    local_time_delay = 0\n",
        "    if trans_rate == 0:\n",
        "        offload_trans_time = 0\n",
        "    else :\n",
        "      offload_trans_time = task_size*partition_factor /trans_rate\n",
        "    offload_comp_time = task_size*comp_size * partition_factor/ MEC_System.MEC_COMP_CAPABILITY\n",
        "    total_offload_time = (offload_trans_time + offload_comp_time)\n",
        "\n",
        "\n",
        "    K = 10e-27\n",
        "    energy_local = 0\n",
        "    energy_offload = offload_trans_time*trans_power*1000\n",
        "\n",
        "    total_delay = max(local_time_delay, total_offload_time)\n",
        "    total_energy = energy_local + energy_offload\n",
        "\n",
        "    cost = MEC_System.WEIGHT_DELAY * total_delay + MEC_System.WEIGHT_ENERGY * total_energy\n",
        "\n",
        "    return {'delay':total_delay, 'cost':cost}\n",
        "\n"
      ]
    },
    {
      "cell_type": "markdown",
      "metadata": {
        "id": "ydcrz2PfiYgf"
      },
      "source": [
        "## Register Environment"
      ]
    },
    {
      "cell_type": "code",
      "execution_count": null,
      "metadata": {
        "id": "jAeZUdDkuhEF"
      },
      "outputs": [],
      "source": [
        "register(\n",
        "    id='MEC_env-v12',\n",
        "    entry_point=f'{__name__}:MEC_System',\n",
        ")"
      ]
    },
    {
      "cell_type": "code",
      "execution_count": null,
      "metadata": {
        "colab": {
          "base_uri": "https://localhost:8080/",
          "height": 847
        },
        "id": "x6CQAEloi3qX",
        "outputId": "84bfd541-20f4-4784-a538-f334f86caaeb"
      },
      "outputs": [
        {
          "output_type": "stream",
          "name": "stderr",
          "text": [
            "/usr/local/lib/python3.10/dist-packages/gym/logger.py:30: UserWarning: \u001b[33mWARN: Box bound precision lowered by casting to float32\u001b[0m\n",
            "  warnings.warn(colorize('%s: %s'%('WARN', msg % args), 'yellow'))\n"
          ]
        },
        {
          "output_type": "stream",
          "name": "stdout",
          "text": [
            "0.7\n",
            "{'cost': 8.822196328356424e-06, 'energy': 7.652196328356422e-05, 'delay': 1.3000000000000003e-06, 'local_only': {'delay': 4.333333333333333e-06, 'cost': 9.8904e-06}, 'offload_only': {'delay': 6.045192857255706e-07, 'cost': 7.305610215198662e-06}}\n",
            "0.7\n",
            "{'cost': 8.048109247510662e-06, 'energy': 6.855609247510662e-05, 'delay': 1.3250000000000002e-06, 'local_only': {'delay': 4.416666666666667e-06, 'cost': 1.0080600000000001e-05}, 'offload_only': {'delay': 6.024016761202253e-07, 'cost': 6.334295598126225e-06}}\n",
            "0.7\n",
            "{'cost': 8.031990577019494e-06, 'energy': 6.816990577019494e-05, 'delay': 1.3500000000000002e-06, 'local_only': {'delay': 4.5e-06, 'cost': 1.02708e-05}, 'offload_only': {'delay': 6.113264851327868e-07, 'cost': 6.256312647242456e-06}}\n",
            "0.7\n",
            "{'cost': 8.607555214884184e-06, 'energy': 7.370055214884184e-05, 'delay': 1.3750000000000002e-06, 'local_only': {'delay': 4.583333333333333e-06, 'cost': 1.0461e-05}, 'offload_only': {'delay': 6.288534527805508e-07, 'cost': 6.874244329946556e-06}}\n",
            "0.7\n",
            "{'cost': 9.856240080418316e-06, 'energy': 8.596240080418315e-05, 'delay': 1.4000000000000001e-06, 'local_only': {'delay': 4.666666666666666e-06, 'cost': 1.06512e-05}, 'offload_only': {'delay': 6.562079865366393e-07, 'cost': 8.287226110814116e-06}}\n",
            "0.7\n",
            "{'cost': 8.635938676432392e-06, 'energy': 7.353438676432391e-05, 'delay': 1.4250000000000001e-06, 'local_only': {'delay': 4.75e-06, 'cost': 1.0841400000000003e-05}, 'offload_only': {'delay': 6.475813783117278e-07, 'cost': 6.789333505418776e-06}}\n",
            "0.7\n",
            "{'cost': 8.977524375175864e-06, 'energy': 7.672524375175863e-05, 'delay': 1.45e-06, 'local_only': {'delay': 4.833333333333333e-06, 'cost': 1.1031600000000001e-05}, 'offload_only': {'delay': 6.617064963286078e-07, 'cost': 7.132055552984378e-06}}\n",
            "0.7\n",
            "{'cost': 9.297331465904159e-06, 'energy': 7.969831465904157e-05, 'delay': 1.4750000000000003e-06, 'local_only': {'delay': 4.9166666666666665e-06, 'cost': 1.12218e-05}, 'offload_only': {'delay': 6.755162714250144e-07, 'cost': 7.449266358283673e-06}}\n",
            "0.7\n",
            "{'cost': 9.360631071901121e-06, 'energy': 8.010631071901121e-05, 'delay': 1.5000000000000002e-06, 'local_only': {'delay': 5e-06, 'cost': 1.1412000000000002e-05}, 'offload_only': {'delay': 6.855937538543474e-07, 'cost': 7.46453468681671e-06}}\n",
            "0.7\n",
            "{'cost': 9.502124948699929e-06, 'energy': 8.129624948699927e-05, 'delay': 1.5250000000000002e-06, 'local_only': {'delay': 5.0833333333333335e-06, 'cost': 1.1602200000000002e-05}, 'offload_only': {'delay': 6.968091134157868e-07, 'cost': 7.57185727533716e-06}}\n"
          ]
        },
        {
          "output_type": "display_data",
          "data": {
            "text/plain": [
              "<Figure size 640x480 with 1 Axes>"
            ],
            "image/png": "[encoded data removed]"
          },
          "metadata": {}
        }
      ],
      "source": [
        "import random\n",
        "\n",
        "env_name = \"MEC_env-v12\"\n",
        "env = gym.make(env_name)\n",
        "\n",
        "cost = []\n",
        "env.reset()\n",
        "done = False\n",
        "# env.verbose = True\n",
        "episodes = 10\n",
        "log_interval = 5000\n",
        "returns = []\n",
        "lo = []\n",
        "\n",
        "for episode in range(1,episodes+1):\n",
        "  state = env.reset()\n",
        "  done=False\n",
        "  score=0\n",
        "\n",
        "  while not done:\n",
        "    # action = random.choice([0,1])\n",
        "    state, reward, done, info = env.step([0.7, 1])\n",
        "    score+=reward\n",
        "    print(info)\n",
        "    local = info['offload_only']['cost']\n",
        "    lo.append(local)\n",
        "    # env.render()\n",
        "    log = env.state_log\n",
        "        # print(log)\n",
        "    cost.append(log[0][6])\n",
        "\n",
        "    if episode % log_interval == 0:\n",
        "        print(f\"Episode {episode}, Score : {score}\")\n",
        "        returns.append(score)\n",
        "        log = env.state_log\n",
        "        # print(log)\n",
        "        cost.append(log[0][6])\n",
        "\n",
        "\n",
        "    # if step % eval_interval == 0:\n",
        "    #     avg_return = compute_avg_return(eval_env, tf_agent.policy,\n",
        "    #                                     num_eval_episodes)\n",
        "    #     print('step = {0}: Average Return = {1}'.format(step, avg_return))\n",
        "    #     returns.append(avg_return)\n",
        "\n",
        "env.close()\n",
        "plt.plot(lo)\n",
        "plt.show()\n"
      ]
    },
    {
      "cell_type": "code",
      "execution_count": null,
      "metadata": {
        "id": "bElF-3Q6nmTl"
      },
      "outputs": [],
      "source": [
        "# iterations = range(0, episodes , log_interval)\n",
        "# plt.plot(iterations, cost)\n",
        "# plt.ylabel('Average Return')\n",
        "# plt.xlabel('Iterations')\n",
        "# plt.ylim(top=25)"
      ]
    },
    {
      "cell_type": "markdown",
      "metadata": {
        "id": "kAPlFLOEr2Jl"
      },
      "source": [
        "## Hyperparameters"
      ]
    },
    {
      "cell_type": "code",
      "execution_count": null,
      "metadata": {
        "id": "AweMi1YPNjs1"
      },
      "outputs": [],
      "source": [
        "# How long should training run?\n",
        "num_iterations = 20000\n",
        "# How often should the program provide an update.\n",
        "log_interval = 500\n",
        "summary_interval=1000,\n",
        "summaries_flush_secs=10,\n",
        "debug_summaries=False,\n",
        "summarize_grads_and_vars=False,\n",
        "eval_metrics_callback=None,\n",
        "# How many initial random steps, before training start, to\n",
        "# collect initial data.\n",
        "initial_collect_steps = 1000\n",
        "# How many steps should we run each iteration to collect\n",
        "# data from.\n",
        "collect_steps_per_iteration = 50\n",
        "# How much data should we store for training examples.\n",
        "replay_buffer_max_length = 100000\n",
        "\n",
        "batch_size = 64\n",
        "\n",
        "# How many episodes should the program use for each evaluation.\n",
        "num_eval_episodes = 350\n",
        "# How often should an evaluation occur.\n",
        "eval_interval = 500"
      ]
    },
    {
      "cell_type": "markdown",
      "metadata": {
        "id": "v0WzCzPgr-kP"
      },
      "source": [
        "#Instantiate the Environment"
      ]
    },
    {
      "cell_type": "markdown",
      "metadata": {
        "id": "CLvc6j0wsGM7"
      },
      "source": [
        "load environment. Since the environment is registered with the TF-Agents, we can load the enviroment  by the name \"MEC_env_v0\""
      ]
    },
    {
      "cell_type": "code",
      "execution_count": null,
      "metadata": {
        "id": "q7ngwDkasEvh"
      },
      "outputs": [],
      "source": [
        "env_name = 'MEC_env-v12'\n",
        "env = suite_gym.load(env_name)"
      ]
    },
    {
      "cell_type": "markdown",
      "metadata": {
        "id": "96uouKB6BjB_"
      },
      "source": [
        "Instantiate two environments : one for training and one for evaluation\n"
      ]
    },
    {
      "cell_type": "code",
      "execution_count": null,
      "metadata": {
        "id": "N7brXNIGWXjC"
      },
      "outputs": [],
      "source": [
        "train_py_env = suite_gym.load(env_name)\n",
        "eval_py_env = suite_gym.load(env_name)\n",
        "\n",
        "train_env = tf_py_environment.TFPyEnvironment(train_py_env)\n",
        "eval_env = tf_py_environment.TFPyEnvironment(eval_py_env)\n"
      ]
    },
    {
      "cell_type": "code",
      "execution_count": null,
      "metadata": {
        "colab": {
          "base_uri": "https://localhost:8080/"
        },
        "id": "t8DjDbIbywXD",
        "outputId": "714fe5b0-66b0-40e8-c877-c83231530195"
      },
      "outputs": [
        {
          "output_type": "execute_result",
          "data": {
            "text/plain": [
              "array([None], dtype=object)"
            ]
          },
          "metadata": {},
          "execution_count": 14
        }
      ],
      "source": [
        "train_env.pyenv.get_info()"
      ]
    },
    {
      "cell_type": "markdown",
      "metadata": {
        "id": "hXxS3bNSCCPJ"
      },
      "source": [
        "# Create Critic and Actor Neural Networks"
      ]
    },
    {
      "cell_type": "code",
      "execution_count": null,
      "metadata": {
        "id": "n2m9iDbGCOTr"
      },
      "outputs": [],
      "source": [
        "actor_fc_layers = (400, 300)\n",
        "critic_obs_fc_layers = (400,)\n",
        "critic_action_fc_layers = None\n",
        "critic_joint_fc_layers = (300,)\n",
        "#collection params for buffer\n",
        "ou_stddev = 0.2\n",
        "ou_damping = 0.15\n",
        "target_update_tau = 0.05\n",
        "target_update_period = 5\n",
        "dqda_clipping = None\n",
        "td_errors_loss_fn = tf.compat.v1.losses.huber_loss\n",
        "gamma = 0.995\n",
        "reward_scale_factor = 1.0\n",
        "gradient_clipping = None\n",
        "\n",
        "actor_learning_rate = 1e-4\n",
        "critic_learning_rate = 1e-3\n",
        "debug_summaries = False\n",
        "summarize_grads_and_vars = False\n",
        "num_parallel_environments=1\n",
        "global_step = tf.compat.v1.train.get_or_create_global_step()\n",
        "\n",
        "\n",
        "actor_net = actor_network.ActorNetwork(\n",
        "    train_env.time_step_spec().observation,\n",
        "    train_env.action_spec(),\n",
        "    fc_layer_params=actor_fc_layers,\n",
        ")\n",
        "\n",
        "critic_net_input_specs = (train_env.time_step_spec().observation,\n",
        "                          train_env.action_spec())\n",
        "\n",
        "critic_net = critic_network.CriticNetwork(\n",
        "    critic_net_input_specs,\n",
        "    observation_fc_layer_params=critic_obs_fc_layers,\n",
        "    action_fc_layer_params=critic_action_fc_layers,\n",
        "    joint_fc_layer_params=critic_joint_fc_layers,\n",
        ")\n",
        "\n",
        "tf_agent = ddpg_agent.DdpgAgent(\n",
        "    train_env.time_step_spec(),\n",
        "    train_env.action_spec(),\n",
        "    actor_network=actor_net,\n",
        "    critic_network=critic_net,\n",
        "    actor_optimizer=tf.compat.v1.train.AdamOptimizer(\n",
        "        learning_rate=actor_learning_rate),\n",
        "    critic_optimizer=tf.compat.v1.train.AdamOptimizer(\n",
        "        learning_rate=critic_learning_rate),\n",
        "    ou_stddev=ou_stddev,\n",
        "    ou_damping=ou_damping,\n",
        "    target_update_tau=target_update_tau,\n",
        "    target_update_period=target_update_period,\n",
        "    dqda_clipping=dqda_clipping,\n",
        "    td_errors_loss_fn=td_errors_loss_fn,\n",
        "    gamma=gamma,\n",
        "    reward_scale_factor=reward_scale_factor,\n",
        "    gradient_clipping=gradient_clipping,\n",
        "    debug_summaries=debug_summaries,\n",
        "    summarize_grads_and_vars=summarize_grads_and_vars,\n",
        "    train_step_counter=global_step)\n",
        "tf_agent.initialize()\n"
      ]
    },
    {
      "cell_type": "markdown",
      "metadata": {
        "id": "frBlvEYnC5x3"
      },
      "source": [
        "#Metrics and Evaluation"
      ]
    },
    {
      "cell_type": "code",
      "execution_count": null,
      "metadata": {
        "id": "XKGTA5MwDGZL"
      },
      "outputs": [],
      "source": [
        "def compute_avg_return(environment, policy, num_episodes=10):\n",
        "\n",
        "  total_return = 0.0\n",
        "  total_delay = 0.0\n",
        "  total_cost =0.0\n",
        "  for _ in range(num_episodes):\n",
        "\n",
        "    time_step = environment.reset()\n",
        "    episode_return = 0.0\n",
        "    delay_ep = 0.0\n",
        "    cost_ep = 0.0\n",
        "\n",
        "    while not time_step.is_last():\n",
        "      action_step = policy.action(time_step)\n",
        "      time_step = environment.step(action_step.action)\n",
        "      episode_return += time_step.reward\n",
        "      x = environment.pyenv.get_info()\n",
        "      delay_ep = x['delay']\n",
        "      cost_ep = x['cost']\n",
        "    total_return += episode_return\n",
        "    total_delay += delay_ep\n",
        "    total_cost += cost_ep\n",
        "\n",
        "  avg_delay = total_delay/num_episodes\n",
        "  avg_return = total_return / num_episodes\n",
        "  avg_cost = total_cost/ num_episodes\n",
        "\n",
        "  print(f\"ret: {avg_return}; delay: {avg_delay}\")\n",
        "\n",
        "\n",
        "  return avg_return.numpy()[0], avg_delay[0], avg_cost[0]"
      ]
    },
    {
      "cell_type": "markdown",
      "metadata": {
        "id": "QZooIYnYDPme"
      },
      "source": [
        "#Data Collection\n",
        "In order to populate the replay buffer, a random policy is followed in the environemnt for a few steps"
      ]
    },
    {
      "cell_type": "code",
      "execution_count": null,
      "metadata": {
        "id": "O5IuwRtK7fnN"
      },
      "outputs": [],
      "source": [
        "\n",
        "replay_buffer = tf_uniform_replay_buffer.TFUniformReplayBuffer(\n",
        "        data_spec=tf_agent.collect_data_spec,\n",
        "        batch_size=train_env.batch_size,\n",
        "        max_length=100000)\n",
        "\n",
        "replay_observer = [replay_buffer.add_batch]\n",
        "\n",
        "dataset = replay_buffer.as_dataset(\n",
        "            num_parallel_calls=3,\n",
        "            sample_batch_size=batch_size,\n",
        "    num_steps=2).prefetch(3)\n",
        "\n",
        "iterator = iter(dataset)\n",
        "\n",
        "train_metrics = [\n",
        "            tf_metrics.NumberOfEpisodes(),\n",
        "            tf_metrics.EnvironmentSteps(),\n",
        "            tf_metrics.AverageReturnMetric(),\n",
        "]\n",
        "\n",
        "eval_policy = tf_agent.policy\n",
        "collect_policy = tf_agent.collect_policy\n",
        "\n",
        "driver = dynamic_step_driver.DynamicStepDriver(\n",
        "            train_env,\n",
        "            collect_policy,\n",
        "            observers=replay_observer + train_metrics,\n",
        "    num_steps=1)\n",
        "\n",
        "avg_return, delay, cost = compute_avg_return(eval_env, tf_agent.policy,\n",
        "                                num_eval_episodes)\n",
        "returns = [avg_return]\n",
        "delays = [delay]\n",
        "costs = [cost]\n",
        "\n",
        "episode_len = []\n",
        "loss = []"
      ]
    },
    {
      "cell_type": "markdown",
      "source": [
        "## Train the agent"
      ],
      "metadata": {
        "id": "Mzw_L2A8Hlo5"
      }
    },
    {
      "cell_type": "code",
      "source": [
        "\n",
        "final_time_step, policy_state = driver.run()\n",
        "\n",
        "for i in range(num_iterations):\n",
        "    final_time_step, _ = driver.run(final_time_step, policy_state)\n",
        "\n",
        "    experience, _ = next(iterator)\n",
        "    train_loss = tf_agent.train(experience=experience)\n",
        "    step = tf_agent.train_step_counter.numpy()\n",
        "\n",
        "    train_env.current_time_step\n",
        "\n",
        "    if step % log_interval == 0:\n",
        "        print('step = {0}: loss = {1}'.format(step, train_loss.loss))\n",
        "        loss.append(train_loss.loss)\n",
        "\n",
        "        # print('Average episode length: {}'.format(train_metrics[3].result().numpy()))\n",
        "\n",
        "    if step % eval_interval== 0:\n",
        "        avg_return,delay,cost = compute_avg_return(eval_env, tf_agent.policy, 200)\n",
        "        returns.append(avg_return)\n",
        "        delays.append(delay)\n",
        "        costs.append(cost)\n",
        "        print('step = {0}: Average Return = {1}'.format(step, avg_return))\n",
        "\n",
        "plt.plot(loss)\n",
        "plt.ylabel(\"Average TotalLoss\")\n",
        "plt.xlabel(\"Number of Episodes\")\n",
        "plt.show()\n"
      ],
      "metadata": {
        "id": "mejoHcT2HKnt"
      },
      "execution_count": null,
      "outputs": []
    },
    {
      "cell_type": "markdown",
      "source": [
        "##Display the Cost"
      ],
      "metadata": {
        "id": "pNc962cnG6-2"
      }
    },
    {
      "cell_type": "code",
      "execution_count": null,
      "metadata": {
        "colab": {
          "base_uri": "https://localhost:8080/",
          "height": 449
        },
        "id": "5usEwsIrnxw5",
        "outputId": "44892ec0-c5b2-4427-eec7-30b250f2c5b0"
      },
      "outputs": [
        {
          "output_type": "display_data",
          "data": {
            "text/plain": [
              "<Figure size 640x480 with 1 Axes>"
            ],
            "image/png": "[encoded data removed]"
          },
          "metadata": {}
        }
      ],
      "source": [
        "x = returns\n",
        "# x_norm = (x-np.min(x))/(np.max(x)-np.min(x))\n",
        "# x_val = [i*200 for i in range(len(returns))]\n",
        "# plt.plot(x_val,x_norm)\n",
        "# plt.ylabel(\"Average Normalised Reward\")\n",
        "# plt.xlabel(\"Number of Episodes\")\n",
        "# plt.show()\n",
        "\n",
        "z =[-1*i for i in returns]\n",
        "# print(returns)\n",
        "z_norm = (z-np.min(z))/(np.max(z)-np.min(z))\n",
        "x_val = [i*200 for i in range(len(returns))]\n",
        "plt.plot(x_val,z_norm)\n",
        "plt.ylabel(\"Average Normalised Cost\")\n",
        "plt.xlabel(\"Number of Episodes\")\n",
        "plt.show()"
      ]
    },
    {
      "cell_type": "markdown",
      "source": [
        "## Compare different offload approaches"
      ],
      "metadata": {
        "id": "HptqeaiEG1d-"
      }
    },
    {
      "cell_type": "code",
      "execution_count": null,
      "metadata": {
        "id": "UPhueEwVLlZy"
      },
      "outputs": [],
      "source": [
        "generator = sequential_number_generator(50,1,350+1)\n",
        "\n",
        "c = [] #returns\n",
        "c_l = []\n",
        "c_o = []\n",
        "\n",
        "d = []\n",
        "d_l = []\n",
        "d_o = []\n",
        "\n",
        "sum_c_l = 0.0\n",
        "sum_c_o = 0.0\n",
        "sum_c = 0.0\n",
        "\n",
        "sum_d = 0.0\n",
        "sum_d_l = 0.0\n",
        "sum_d_o = 0.0\n",
        "step = 1\n",
        "\n",
        "for i in range(300+1):\n",
        "  # final_time_step, _ = driver.run(final_time_step, policy_state)\n",
        "  # train_loss = tf_agent.train(experience=experience)\n",
        "\n",
        "    time_step = eval_env.reset()\n",
        "    num_episodes = 50\n",
        "\n",
        "    while not time_step.is_last():\n",
        "      action_step = tf_agent.policy.action(time_step)\n",
        "      time_step = eval_env.step(action_step.action)\n",
        "      # episode_return += time_step.reward\n",
        "      x = eval_env.pyenv.get_info()\n",
        "      delay_ep = x['delay']\n",
        "      cost_ep = x['cost']\n",
        "      delay_l_ep = x['local_only']['delay']\n",
        "      cost_l_ep = x['local_only']['cost']\n",
        "      delay_o_ep = x['offload_only']['delay']\n",
        "      cost_o_ep = x['offload_only']['cost']\n",
        "    sum_c_l = cost_l_ep\n",
        "    sum_c_o = cost_o_ep\n",
        "    sum_c = cost_ep\n",
        "\n",
        "    sum_d = delay_ep\n",
        "    sum_d_l = delay_l_ep\n",
        "    sum_d_o = delay_o_ep\n",
        "    step+=1\n",
        "      # print('Average episode length: {}'.format(train_metrics[3].result().numpy()))\n",
        "\n",
        "    if step % 50== 0:\n",
        "        print(step)\n",
        "        avg_delay = sum_d/num_episodes\n",
        "        avg_delay_off = sum_d_o/num_episodes\n",
        "        avg_delay_loc = sum_d_l/num_episodes\n",
        "\n",
        "        avg_cost = sum_c/ num_episodes\n",
        "        avg_cost_off = sum_c_o/num_episodes\n",
        "        avg_cost_loc = sum_c_l/num_episodes\n",
        "\n",
        "        # return avg_return.numpy()[0], avg_delay[0], avg_cost[0]\n",
        "        c.append(avg_cost[0])\n",
        "        c_l.append(avg_cost_loc[0])\n",
        "        c_o.append(avg_cost_off[0])\n",
        "\n",
        "        d.append(avg_delay[0])\n",
        "        d_l.append(avg_delay_loc[0])\n",
        "        d_o.append(avg_delay_off[0])\n",
        "\n",
        "        sum_c_l = 0.0\n",
        "        sum_c_o = 0.0\n",
        "        sum_c = 0.0\n",
        "\n",
        "        sum_d = 0.0\n",
        "        sum_d_l = 0.0\n",
        "        sum_d_o = 0.0\n"
      ]
    },
    {
      "cell_type": "code",
      "execution_count": null,
      "metadata": {
        "colab": {
          "base_uri": "https://localhost:8080/",
          "height": 500
        },
        "id": "QIFzXuBeR9Yy",
        "outputId": "8d55bb2b-b715-48ed-f0f8-28cc8f91d942"
      },
      "outputs": [
        {
          "output_type": "stream",
          "name": "stdout",
          "text": [
            "[6.09811403e-07 8.79064045e-07 7.30842092e-07 1.07837666e-06\n",
            " 1.37935037e-06 1.64945769e-06]\n"
          ]
        },
        {
          "output_type": "display_data",
          "data": {
            "text/plain": [
              "<Figure size 640x480 with 1 Axes>"
            ],
            "image/png": "[encoded data removed]"
          },
          "metadata": {}
        }
      ],
      "source": [
        "x =[50*i for i in range(1,len(c)+1)]\n",
        "\n",
        "c = z\n",
        "z_norm = (z-np.min(z))/(np.max(z)-np.min(z))\n",
        "# plt.plot(x,c)\n",
        "\n",
        "z = c_l_\n",
        "z_norm = (z-np.min(z))/(np.max(z)-np.min(z))\n",
        "plt.plot(x, z)\n",
        "\n",
        "# z = c_o\n",
        "print(c)\n",
        "# z= [i*0.8 for i in c]\n",
        "\n",
        "z_norm = (z-np.min(z))/(np.max(z)-np.min(z))\n",
        "# plt.plot(x,c_o)\n",
        "\n",
        "plt.legend([\"full-offload\", \"full-local\",'DDPG'], loc =\"upper left\")\n",
        "\n",
        "plt.xlabel('Currently Processed Task Data Size(Kbits)')\n",
        "plt.ylabel('Normalised Average Cost')\n",
        "plt.show()\n"
      ]
    }
  ],
  "metadata": {
    "accelerator": "GPU",
    "colab": {
      "provenance": []
    },
    "kernelspec": {
      "display_name": "Python 3",
      "name": "python3"
    },
    "language_info": {
      "name": "python"
    }
  },
  "nbformat": 4,
  "nbformat_minor": 0
}